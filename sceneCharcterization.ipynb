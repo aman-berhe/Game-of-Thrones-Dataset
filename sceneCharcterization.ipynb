{
 "cells": [
  {
   "cell_type": "code",
   "execution_count": 1,
   "metadata": {},
   "outputs": [],
   "source": [
    "import utilityFile as ut\n",
    "import pandas as pd\n",
    "import numpy as np"
   ]
  },
  {
   "cell_type": "code",
   "execution_count": 2,
   "metadata": {},
   "outputs": [
    {
     "data": {
      "text/plain": [
       "Index([u'Unnamed: 0', u'Unnamed: 0.1', u'Season', u'Episode', u'Scene',\n",
       "       u'Scene_Start', u'Scene_End', u'Speaking_Chararacters',\n",
       "       u'Appearing_Characters', u'Scene_Tiitles', u'Specific_Stories',\n",
       "       u'Scene_Texts', u'Scene_Keybords', u'Scene_Entities', u'MRS',\n",
       "       u'Scene_Links', u'Scene_on_Video', u'Scene_Topics'],\n",
       "      dtype='object')"
      ]
     },
     "execution_count": 2,
     "metadata": {},
     "output_type": "execute_result"
    }
   ],
   "source": [
    "sceneData=pd.read_csv('Scenes_Dataset.csv')\n",
    "sceneData.columns"
   ]
  },
  {
   "cell_type": "code",
   "execution_count": 3,
   "metadata": {},
   "outputs": [],
   "source": [
    "speakingChars=sceneData['Speaking_Chararacters'].tolist()\n",
    "speakingChars=[i.split(',') for i in speakingChars]\n",
    "starts=sceneData['Scene_Start'].tolist()\n",
    "end=sceneData['Scene_End'].tolist()\n",
    "appearingChars=sceneData['Appearing_Characters'].tolist()\n",
    "appearingChars=[str(i).split(',') for i in appearingChars]\n",
    "keywords=sceneData['Scene_Keybords']\n",
    "keywords=[i.split() if str(i)!= 'nan' else ['none'] for i in keywords]\n",
    "nameMentions=sceneData['Scene_Entities']\n",
    "nameMentions=[i.replace(\"'\",'')for i in nameMentions]"
   ]
  },
  {
   "cell_type": "code",
   "execution_count": 4,
   "metadata": {},
   "outputs": [
    {
     "data": {
      "text/plain": [
       "((444, 216), (444, 154), (444, 1250), (444, 57))"
      ]
     },
     "execution_count": 4,
     "metadata": {},
     "output_type": "execute_result"
    }
   ],
   "source": [
    "AppearingChars_data,appDic=ut.list_oneHot_encode(appearingChars)\n",
    "speakingChars_data,spkDict=ut.list_oneHot_encode(speakingChars)\n",
    "sceneKeywords,keywordDict=ut.list_oneHot_encode(keywords)\n",
    "sceneNameMentions,namementDict=ut.list_oneHot_encode(nameMentions)\n",
    "AppearingChars_data.shape,speakingChars_data.shape,sceneKeywords.shape,sceneNameMentions.shape"
   ]
  },
  {
   "cell_type": "code",
   "execution_count": 5,
   "metadata": {},
   "outputs": [],
   "source": [
    "speakerCorpus=[' '.join(i) for i in speakingChars]\n",
    "appearingCorpus=[' '.join(i) for i in appearingChars]\n",
    "nameMentionsCorpus=[' '.join(i).strip() for i in nameMentions]\n",
    "keywordsCorpus=[' '.join(i).strip() for i in keywords]"
   ]
  },
  {
   "cell_type": "code",
   "execution_count": 6,
   "metadata": {},
   "outputs": [],
   "source": [
    "sceneSpkTFIDF=ut.getTFIDF_Representation(speakerCorpus)"
   ]
  },
  {
   "cell_type": "code",
   "execution_count": 9,
   "metadata": {},
   "outputs": [
    {
     "name": "stdout",
     "output_type": "stream",
     "text": [
      "(444, 153)\n"
     ]
    }
   ],
   "source": [
    "print(sceneSpkTFIDF.shape)"
   ]
  },
  {
   "cell_type": "code",
   "execution_count": null,
   "metadata": {},
   "outputs": [],
   "source": []
  }
 ],
 "metadata": {
  "kernelspec": {
   "display_name": "Python 3",
   "language": "python",
   "name": "python3"
  },
  "language_info": {
   "codemirror_mode": {
    "name": "ipython",
    "version": 2
   },
   "file_extension": ".py",
   "mimetype": "text/x-python",
   "name": "python",
   "nbconvert_exporter": "python",
   "pygments_lexer": "ipython2",
   "version": "2.7.12"
  }
 },
 "nbformat": 4,
 "nbformat_minor": 2
}
